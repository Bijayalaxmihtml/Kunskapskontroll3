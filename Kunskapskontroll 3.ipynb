{
 "cells": [
  {
   "cell_type": "code",
   "execution_count": 1837,
   "metadata": {},
   "outputs": [],
   "source": [
    "import sqlite3\n",
    "import pandas as pd\n",
    "import matplotlib.pyplot as plt "
   ]
  },
  {
   "cell_type": "markdown",
   "metadata": {},
   "source": [
    "###1. Läsa in data från en SQL-databas (Load data from an SQL database)"
   ]
  },
  {
   "cell_type": "code",
   "execution_count": 1838,
   "metadata": {},
   "outputs": [],
   "source": [
    "# Create connection to database file\n",
    "connection = sqlite3.connect(\"Köksglädje.db\")\n",
    "\n"
   ]
  },
  {
   "cell_type": "code",
   "execution_count": null,
   "metadata": {},
   "outputs": [],
   "source": [
    "products_query = \"SELECT * FROM Products;\"\n",
    "products_df = pd.read_sql(products_query, connection)\n",
    "products_df"
   ]
  },
  {
   "cell_type": "code",
   "execution_count": null,
   "metadata": {},
   "outputs": [],
   "source": [
    "Stores_query = \"SELECT * FROM Stores;\"\n",
    "Stores_df = pd.read_sql(Stores_query, connection)\n",
    "Stores_df"
   ]
  },
  {
   "cell_type": "code",
   "execution_count": null,
   "metadata": {},
   "outputs": [],
   "source": [
    "Transactions_query = 'SELECT * FROM [Transactions];'  \n",
    "Transactions_df = pd.read_sql(Transactions_query, connection)\n",
    "Transactions_df"
   ]
  },
  {
   "cell_type": "code",
   "execution_count": null,
   "metadata": {},
   "outputs": [],
   "source": [
    "Customers_query = \"SELECT * FROM Customers;\"\n",
    "Customers_df = pd.read_sql(Customers_query, connection)\n",
    "Customers_df"
   ]
  },
  {
   "cell_type": "code",
   "execution_count": null,
   "metadata": {},
   "outputs": [],
   "source": [
    "\n",
    "connection = sqlite3.connect(\"Köksglädje.db\")\n",
    "transaction_details_query = \"SELECT * FROM TransactionDetails\"\n",
    "transaction_details_df = pd.read_sql(transaction_details_query, connection)\n",
    "transaction_details_df"
   ]
  },
  {
   "cell_type": "code",
   "execution_count": null,
   "metadata": {},
   "outputs": [],
   "source": [
    "tables_query = \"SELECT name FROM sqlite_master WHERE type='table';\"\n",
    "tables_df = pd.read_sql(tables_query, connection)\n",
    "print(tables_df)"
   ]
  },
  {
   "cell_type": "markdown",
   "metadata": {},
   "source": [
    "###2. Transformera datan i Pandas, om det behövs (Transform the data in Pandas, if needed)"
   ]
  },
  {
   "cell_type": "code",
   "execution_count": null,
   "metadata": {},
   "outputs": [],
   "source": [
    "# Merging transaction_details with products data\n",
    "df = pd.merge(products_df, transaction_details_df, on=\"ProductID\")\n",
    "df"
   ]
  },
  {
   "cell_type": "code",
   "execution_count": null,
   "metadata": {},
   "outputs": [],
   "source": [
    "\n",
    "# Merging transactions with store data\n",
    "df1 = pd.merge(Transactions_df, Stores_df, on=\"StoreID\")\n",
    "df1"
   ]
  },
  {
   "cell_type": "code",
   "execution_count": null,
   "metadata": {},
   "outputs": [],
   "source": [
    "# Merging transactions with Customer data\n",
    "df2 = pd.merge(Transactions_df, Customers_df, on=\"CustomerID\")\n",
    "print(df2.head())\n",
    "\n",
    "\n"
   ]
  },
  {
   "cell_type": "code",
   "execution_count": null,
   "metadata": {},
   "outputs": [],
   "source": [
    "# Grouping and analyzing CategoryName by product\n",
    "query = '''SELECT ProductName, Price FROM Products\n",
    "WHERE CategoryName = \"Köksknivar\";'''\n",
    "df.head(20).plot(kind=\"barh\", x=\"ProductName\", rot=0)\n",
    "df"
   ]
  },
  {
   "cell_type": "code",
   "execution_count": null,
   "metadata": {},
   "outputs": [],
   "source": [
    "# I did Exploratory Data Analysis (EDA) for a df.\n",
    "float_columns = df.select_dtypes(include='float')\n",
    "print(float_columns) "
   ]
  },
  {
   "cell_type": "code",
   "execution_count": null,
   "metadata": {},
   "outputs": [],
   "source": [
    "# Grouping and analyzing quantity by product and mean\n",
    "df.groupby(\"ProductName\").Quantity.mean()"
   ]
  },
  {
   "cell_type": "code",
   "execution_count": null,
   "metadata": {},
   "outputs": [],
   "source": [
    "query = '''SELECT Productname, Price FROM Products\n",
    "WHERE ProductName = \"Kockkniv\";'''\n",
    "print(df)"
   ]
  },
  {
   "cell_type": "code",
   "execution_count": null,
   "metadata": {},
   "outputs": [],
   "source": [
    "df . describe()"
   ]
  },
  {
   "cell_type": "code",
   "execution_count": null,
   "metadata": {},
   "outputs": [],
   "source": [
    "query = '''SELECT ProductName, Price FROM Products\n",
    "WHERE CategoryName = \"Köksknivar\";'''\n",
    "\n",
    "df.boxplot(figsize = (15,10))\n",
    "#plt.show()\n",
    "df"
   ]
  },
  {
   "cell_type": "code",
   "execution_count": null,
   "metadata": {},
   "outputs": [],
   "source": [
    "# Checking missing values and data types\n",
    "df . isnull().sum()\n",
    "df.dtypes"
   ]
  },
  {
   "cell_type": "code",
   "execution_count": null,
   "metadata": {},
   "outputs": [],
   "source": [
    "# Checking unique values in the dataset\n",
    "df .nunique()"
   ]
  },
  {
   "cell_type": "code",
   "execution_count": 1856,
   "metadata": {},
   "outputs": [],
   "source": [
    "query = '''SELECT ProductName, Price FROM Products \n",
    "WHERE CategoryName = \"Köksknivar\";'''"
   ]
  },
  {
   "cell_type": "code",
   "execution_count": 1857,
   "metadata": {},
   "outputs": [],
   "source": [
    "df_box = pd.read_sql(query, connection)"
   ]
  },
  {
   "cell_type": "code",
   "execution_count": null,
   "metadata": {},
   "outputs": [],
   "source": [
    "df_box"
   ]
  },
  {
   "cell_type": "code",
   "execution_count": null,
   "metadata": {},
   "outputs": [],
   "source": [
    "df_box.boxplot(figsize=(15,10))\n",
    "plt.show()"
   ]
  },
  {
   "cell_type": "code",
   "execution_count": null,
   "metadata": {},
   "outputs": [],
   "source": [
    "fig = plt.Figure()\n",
    "ax = df.boxplot()\n",
    "plt.show()"
   ]
  },
  {
   "cell_type": "code",
   "execution_count": null,
   "metadata": {},
   "outputs": [],
   "source": [
    "float_columns = df.select_dtypes(include='float')\n",
    "print(float_columns)"
   ]
  },
  {
   "cell_type": "code",
   "execution_count": null,
   "metadata": {},
   "outputs": [],
   "source": [
    "object_columns = df.select_dtypes(include='object')\n",
    "print(object_columns)"
   ]
  },
  {
   "cell_type": "code",
   "execution_count": null,
   "metadata": {},
   "outputs": [],
   "source": [
    "integer_columns = df.select_dtypes(include='integer')\n",
    "print(integer_columns)"
   ]
  },
  {
   "cell_type": "code",
   "execution_count": null,
   "metadata": {},
   "outputs": [],
   "source": [
    "# Query the database\n",
    "query = \"\"\"\n",
    "    SELECT \n",
    "        t.TransactionDate, s.StoreName, s.Location, \n",
    "        p.ProductName, p.CategoryName, td.Quantity, \n",
    "        td.TotalPrice, p.Price, p.CostPrice,\n",
    "        (td.TotalPrice - (p.CostPrice * td.Quantity)) AS Profit\n",
    "    FROM TransactionDetails td\n",
    "    JOIN Products p ON td.ProductID = p.ProductID\n",
    "    JOIN Transactions t ON td.TransactionID = t.TransactionID\n",
    "    JOIN Stores s ON t.StoreID = s.StoreID\n",
    "\"\"\"\n",
    "sales_data = pd.read_sql_query(query, connection)\n",
    "# Convert TransactionDate to datetime\n",
    "sales_data[\"TransactionDate\"] = pd.to_datetime(sales_data[\"TransactionDate\"])\n",
    "# Total sales by store\n",
    "sales_by_store = sales_data.groupby(\"StoreName\")[\"TotalPrice\"].sum().sort_values(ascending=False)\n",
    "print(\"Total Sales by Store:\")\n",
    "print(sales_by_store)"
   ]
  },
  {
   "cell_type": "markdown",
   "metadata": {},
   "source": [
    "3. Genomföra en analys av datan i Pandas (Conduct data analysis in Pandas)"
   ]
  },
  {
   "cell_type": "code",
   "execution_count": null,
   "metadata": {},
   "outputs": [],
   "source": [
    "# Total sales by product\n",
    "sales_by_product = sales_data.groupby(\"ProductName\")[\"TotalPrice\"].sum().sort_values(ascending=False).head(10)\n",
    "print(\"Top 10 Products by Sales:\")\n",
    "print(sales_by_product)\n",
    "\n",
    "# Visualization: total sales by product\n",
    "sales_by_product.plot(kind=\"bar\", title=\"sales by product\", figsize=(5, 7), color=\"blue\")\n",
    "plt.ylabel(\"Total Profit ($)\")\n",
    "plt.show()\n",
    "\n",
    "# Total profit by category\n",
    "profit_by_category = sales_data.groupby(\"CategoryName\")[\"Profit\"].sum().sort_values(ascending=False)\n",
    "print(\"\\nTotal Profit by Category:\")\n",
    "print(profit_by_category)\n",
    "\n",
    "# Visualization: Profit by category\n",
    "profit_by_category.plot(kind=\"bar\", title=\"Profit by Category\", figsize=(8, 6), color=\"green\")\n",
    "plt.ylabel(\"Total Profit ($)\")\n",
    "plt.show()"
   ]
  },
  {
   "cell_type": "code",
   "execution_count": null,
   "metadata": {},
   "outputs": [],
   "source": [
    "# Total sales by store\n",
    "sales_by_store = sales_data.groupby(\"StoreName\")[\"TotalPrice\"].sum().sort_values(ascending=False)\n",
    "print(\"Total Sales by Store:\")\n",
    "print(sales_by_store)\n",
    "\n",
    "# Visualization (optional)\n",
    "sales_by_store.plot(kind=\"bar\", title=\"Total Sales by Store\", figsize=(8, 6), color=\"brown\")\n",
    "plt.ylabel(\"Total Sales ($)\")\n",
    "plt.show()"
   ]
  },
  {
   "cell_type": "code",
   "execution_count": null,
   "metadata": {},
   "outputs": [],
   "source": [
    "# Total profit by store\n",
    "profit_by_store = sales_data.groupby(\"StoreName\")[\"Profit\"].sum().sort_values(ascending=False)\n",
    "print(\"\\nTotal Profit by Store:\")\n",
    "print(profit_by_store)\n",
    "\n",
    "# Visualization (optional)\n",
    "profit_by_store.plot(kind=\"bar\", title=\"Total Profit by Store\", figsize=(10, 8), color=\"darkblue\")\n",
    "plt.ylabel(\"Total Profit ($)\")\n",
    "plt.show()"
   ]
  },
  {
   "cell_type": "code",
   "execution_count": null,
   "metadata": {},
   "outputs": [],
   "source": [
    "# Merge Data for Analysis\n",
    "merged_data = (\n",
    "    transaction_details_df\n",
    "    .merge(transactions_df, on=\"TransactionID\")\n",
    "    .merge(products_df, on=\"ProductID\")\n",
    "    .merge(stores_df, on=\"StoreID\")\n",
    ")# Top-Selling Products\n",
    "top_products = (\n",
    "    merged_data.groupby('ProductName')['TotalPrice']\n",
    "    .sum()\n",
    "    .sort_values(ascending=False)\n",
    "    .head(10)\n",
    ")\n",
    "plt.figure(figsize=(10, 8))\n",
    "top_products.plot(kind='bar', color='green')\n",
    "plt.title(\"Top-Selling Products\")\n",
    "plt.xlabel(\"Product Name\")\n",
    "plt.ylabel(\"Total Sales (SEK)\")\n",
    "plt.xticks(rotation=45)\n",
    "plt.tight_layout()\n",
    "plt.show()\n"
   ]
  },
  {
   "cell_type": "code",
   "execution_count": null,
   "metadata": {},
   "outputs": [],
   "source": [
    "# Profitability Analysis\n",
    "merged_data['Profit'] = (merged_data['PriceAtPurchase'] - merged_data['CostPrice']) * merged_data['Quantity']\n",
    "profit_by_store = merged_data.groupby('StoreName')['Profit'].sum()\n",
    "\n",
    "plt.figure(figsize=(10, 6))\n",
    "profit_by_store.sort_values().plot(kind='barh', color='orange')\n",
    "plt.title(\"Profit by Store\")\n",
    "plt.xlabel(\"Total Profit (SEK)\")\n",
    "plt.ylabel(\"Store Name\")\n",
    "plt.tight_layout()\n",
    "plt.show()\n"
   ]
  },
  {
   "cell_type": "code",
   "execution_count": null,
   "metadata": {},
   "outputs": [],
   "source": [
    "\n",
    "##Perform monthly/weekly trend analysis using TransactionDate.\n",
    "##Find peak sales periods.\n",
    "sales_data[\"TransactionDate\"] = pd.to_datetime(sales_data[\"TransactionDate\"])\n",
    "monthly_sales = sales_data.groupby(sales_data[\"TransactionDate\"].dt.to_period(\"M\"))[\"TotalPrice\"].sum()\n",
    "#  the peak month (highest sales)\n",
    "peak_month = monthly_sales.idxmax()\n",
    "peak_sales_value = monthly_sales.max()\n",
    "\n",
    "print(f\"Peak Sales Month: {peak_month}, Sales Amount: {peak_sales_value}\")\n",
    "\n",
    "# Plotting Monthly Sales Trends\n",
    "monthly_sales.plot(kind=\"line\", title=\"Monthly Sales Trends\")\n",
    "plt.axhline(y=peak_sales_value, color='r', linestyle='--', label=f\"Peak: {peak_month}\")\n",
    "plt.legend()\n",
    "plt.show()\n"
   ]
  },
  {
   "cell_type": "code",
   "execution_count": null,
   "metadata": {},
   "outputs": [],
   "source": [
    "##Are there any seasonal patterns in sales?\n",
    "# Seasonal trends analysis\n",
    "sales_data[\"month\"] = sales_data[\"TransactionDate\"].dt.month\n",
    "monthly_sales = sales_data.groupby(\"month\")[\"TotalPrice\"].sum()\n",
    "monthly_sales.plot(kind=\"bar\", title=\"Monthly Sales Trends\")\n",
    "plt.show()"
   ]
  },
  {
   "cell_type": "code",
   "execution_count": null,
   "metadata": {},
   "outputs": [],
   "source": [
    "# Query with the correct table name\n",
    "transaction_query = \"\"\"\n",
    "SELECT transaction_date, transactionID, storeID, customerID\n",
    "FROM \"Transactions\"  -- Replace with the correct name\n",
    "\"\"\"\n",
    "\n",
    "try:\n",
    "    # Execute the query and load the data into a pandas DataFrame\n",
    "    transaction = pd.read_sql(transaction_query, connection)\n",
    "    print(\"Transaction data retrieved successfully!\")\n",
    "    print(transaction.head())\n",
    "except Exception as e:\n",
    "    print(f\"An error occurred: {e}\")"
   ]
  },
  {
   "cell_type": "code",
   "execution_count": null,
   "metadata": {},
   "outputs": [],
   "source": [
    "print(df.columns)"
   ]
  },
  {
   "cell_type": "code",
   "execution_count": null,
   "metadata": {},
   "outputs": [],
   "source": [
    "#  Connect to the database\n",
    "connection = sqlite3.connect(\"Köksglädje.db\")\n",
    "\n",
    "#  Load data from the database with proper checks\n",
    "try:\n",
    "    transactions_df = pd.read_sql(\"SELECT * FROM Transactions;\", connection)\n",
    "    stores_df = pd.read_sql(\"SELECT * FROM Stores;\", connection)\n",
    "    transaction_details_df = pd.read_sql(\"SELECT * FROM TransactionDetails;\", connection)\n",
    "    products_df = pd.read_sql(\"SELECT * FROM Products;\", connection)\n",
    "\n",
    "    # Verify data loaded correctly\n",
    "    print(\"Data Loaded Successfully:\")\n",
    "    print(f\"Transactions: {transactions_df.shape}, Stores: {stores_df.shape}, \"\n",
    "          f\"TransactionDetails: {transaction_details_df.shape}, Products: {products_df.shape}\")\n",
    "\n",
    "except Exception as e:\n",
    "    print(f\"Error loading data: {e}\")\n",
    "    exit()\n",
    "\n",
    "#  Merge relevant tables\n",
    "df1 = pd.merge(transactions_df, stores_df, on=\"StoreID\", how=\"inner\")\n",
    "df1 = pd.merge(df1, transaction_details_df, on=\"TransactionID\", how=\"inner\")\n",
    "df1 = pd.merge(df1, products_df, on=\"ProductID\", how=\"inner\")\n",
    "\n",
    "#  Ensure column consistency\n",
    "df1.columns = df1.columns.str.strip().str.lower()\n",
    "\n",
    "#  Ensure 'totalprice' column exists\n",
    "if 'totalprice' not in df1.columns:\n",
    "    df1[\"totalprice\"] = df1[\"price\"] * df1[\"quantity\"]\n",
    "\n",
    "#  Analyze sales by store\n",
    "sales_by_store = df1.groupby(\"storename\")[\"totalprice\"].sum().sort_values(ascending=False)\n",
    "# Step 7: Display data and visualization\n",
    "print(\"Top 5 Stores by Total Sales:\")\n",
    "print(sales_by_store.head())\n",
    "\n",
    "# Visualization of total sales by store\n",
    "plt.figure(figsize=(10, 6))\n",
    "sales_by_store.plot(kind=\"bar\", color=\"brown\")\n",
    "plt.title(\"Total Sales by Store\")\n",
    "plt.ylabel(\"Total Sales ($)\")\n",
    "plt.xlabel(\"Store Name\")\n",
    "plt.xticks(rotation=45)\n",
    "plt.show()\n",
    "\n",
    "#  Data Summary and Missing Values\n",
    "print(\"\\nData Overview:\")\n",
    "print(df1.describe())\n",
    "\n",
    "print(\"\\nMissing Values Count:\")\n",
    "print(df1.isnull().sum())"
   ]
  },
  {
   "cell_type": "code",
   "execution_count": null,
   "metadata": {},
   "outputs": [],
   "source": [
    "##. Data Cleaning Techniques\n",
    "# Data cleaning is essential to ensure accuracy, consistency, and completeness of the dataset. \n",
    "##The following techniques were applied:\n",
    "#Handling Missing Values:\n",
    "\n",
    "#  Print available columns\n",
    "print(\"Initial Columns:\", df.columns.tolist())\n",
    "\n",
    "#  Clean column names\n",
    "df.columns = df.columns.str.strip()\n",
    "print(\"Cleaned Columns:\", df.columns.tolist())\n",
    "\n",
    "#  Check for missing values\n",
    "print(\"Missing Values Count:\\n\", df.isnull().sum())\n",
    "df.ffill(inplace=True)  # Forward fill missing values\n",
    "\n",
    "#  Convert data types\n",
    "if \"TransactionDate\" in df.columns:\n",
    "    df[\"TransactionDate\"] = pd.to_datetime(df[\"TransactionDate\"])\n",
    "else:\n",
    "    print(\"Warning: 'TransactionDate' column not found!\")\n",
    "\n",
    "#  Remove duplicates\n",
    "df.drop_duplicates(inplace=True)\n",
    "\n",
    "#  Standardize categorical values if StoreName exists\n",
    "if \"StoreName\" in df.columns:\n",
    "    df[\"StoreName\"] = df[\"StoreName\"].str.strip().str.title()\n",
    "else:\n",
    "    print(\"Column 'StoreName' not found. Skipping standardization.\")\n",
    "\n",
    "#  Detect outliers\n",
    "import seaborn as sns\n",
    "import matplotlib.pyplot as plt\n",
    "\n",
    "if \"TotalPrice\" in df.columns:\n",
    "    sns.boxplot(x=df[\"TotalPrice\"])\n",
    "    plt.title(\"Outlier Detection in TotalPrice\")\n",
    "    plt.show()\n",
    "else:\n",
    "    print(\"Column 'TotalPrice' not found. Cannot plot outliers.\")"
   ]
  },
  {
   "cell_type": "code",
   "execution_count": null,
   "metadata": {},
   "outputs": [],
   "source": [
    "#Customer  Purchase Segmentationanalysis\n",
    "# Remove spaces from column names\n",
    "df2.columns = df2.columns.str.strip()\n",
    "\n",
    "# Print columns to verify\n",
    "print(df2.columns)\n",
    "\n",
    "# Correct grouping with verified column names\n",
    "repeat_customers = df2.groupby(\"CustomerID\")[\"TransactionID\"].count().reset_index()\n",
    "repeat_customers.columns = [\"CustomerID\", \"PurchaseCount\"]\n",
    "\n",
    "# Categorizing customers\n",
    "repeat_customers[\"Segment\"] = repeat_customers[\"PurchaseCount\"].apply(lambda x: \"Repeat\" if x > 1 else \"New\")\n",
    "\n",
    "# Filter for only repeat customers\n",
    "repeat_customers_only = repeat_customers[repeat_customers[\"Segment\"] == \"Repeat\"]\n",
    "\n",
    "# Display first few rows\n",
    "print(repeat_customers_only.head())\n",
    "\n",
    "# Visualization using seaborn and matplotlib\n",
    "import matplotlib.pyplot as plt\n",
    "\n",
    "# Create a bar chart for Repeat customers only\n",
    "plt.figure(figsize=(10, 6))\n",
    "plt.bar(repeat_customers_only[\"CustomerID\"], repeat_customers_only[\"PurchaseCount\"], color='lightcoral')\n",
    "plt.title(\"Repeat Customers\")\n",
    "plt.xlabel(\"Customer ID\")\n",
    "plt.ylabel(\"Number of Purchases\")\n",
    "plt.xticks(rotation=90)  # Rotate x-axis labels for better readability\n",
    "\n",
    "# Display the plot\n",
    "plt.tight_layout()\n",
    "plt.show()\n",
    "\n"
   ]
  },
  {
   "cell_type": "code",
   "execution_count": null,
   "metadata": {},
   "outputs": [],
   "source": [
    "\n",
    "##2.Interactive Data Exploration:\n",
    "df.describe()\n",
    "df.hist(figsize=(10, 6))"
   ]
  },
  {
   "cell_type": "code",
   "execution_count": null,
   "metadata": {},
   "outputs": [],
   "source": [
    "\n",
    "#  Print available columns\n",
    "print(\"Initial Columns:\", df.columns.tolist())\n",
    "\n",
    "#  Clean column names by stripping extra spaces\n",
    "df.columns = df.columns.str.strip()\n",
    "print(\"Cleaned Columns:\", df.columns.tolist())\n",
    "\n",
    "#  Check for missing values and fill them using forward fill\n",
    "print(\"Missing Values Count:\\n\", df.isnull().sum())\n",
    "df.ffill(inplace=True)  # Forward fill missing values\n",
    "\n",
    "#  Convert 'TransactionDate' column to datetime format if it exists\n",
    "if \"TransactionDate\" in df.columns:\n",
    "    df[\"TransactionDate\"] = pd.to_datetime(df[\"TransactionDate\"])\n",
    "else:\n",
    "    print(\"Warning: 'TransactionDate' column not found!\")\n",
    "\n",
    "#  Remove duplicate rows\n",
    "df.drop_duplicates(inplace=True)\n",
    "\n",
    "#  Standardize 'StoreName' values if the column exists\n",
    "if \"StoreName\" in df.columns:\n",
    "    df[\"StoreName\"] = df[\"StoreName\"].str.strip().str.title()\n",
    "else:\n",
    "    print(\"Column 'StoreName' not found. Skipping standardization.\")\n",
    "\n",
    "#  Detect outliers in 'TotalPrice' using matplotlib boxplot\n",
    "if \"TotalPrice\" in df.columns:\n",
    "    plt.figure(figsize=(8, 6))  # Set figure size\n",
    "    plt.boxplot(df[\"TotalPrice\"])\n",
    "    plt.title(\"Outlier Detection in TotalPrice\")\n",
    "    plt.xlabel(\"TotalPrice\")\n",
    "    plt.grid(True)  # Add grid for better visibility\n",
    "    plt.show(block=True)  # Ensure the plot is displayed properly\n",
    "else:\n",
    "    print(\"Column 'TotalPrice' not found. Cannot plot outliers.\")\n",
    "\n",
    "#  Analyze top-selling product categories\n",
    "if \"CategoryName\" in df.columns and \"TotalPrice\" in df.columns:\n",
    "    top_categories = df.groupby(\"CategoryName\")[\"TotalPrice\"].sum().sort_values(ascending=False)\n",
    "    print(\"\\nTop-selling product categories:\")\n",
    "    print(top_categories.head())  # Show top categories\n",
    "else:\n",
    "    print(\"Columns 'CategoryName' or 'TotalPrice' missing. Cannot analyze top categories.\")\n",
    "\n",
    "#  Analyze monthly sales trends\n",
    "if \"TransactionDate\" in df.columns and \"TotalPrice\" in df.columns:\n",
    "    monthly_sales = df.groupby(df[\"TransactionDate\"].dt.month)[\"TotalPrice\"].sum()\n",
    "    plt.figure(figsize=(8, 6))\n",
    "    plt.plot(monthly_sales.index, monthly_sales.values, marker='o', linestyle='-', color='b')\n",
    "    plt.title(\"Monthly Sales Trends\")\n",
    "    plt.xlabel(\"Month\")\n",
    "    plt.ylabel(\"Total Sales\")\n",
    "    plt.grid(True)\n",
    "    plt.show()\n",
    "    print(\"\\nInsight: Sales tend to increase during holiday seasons, particularly in December.\")\n",
    "else:\n",
    "    print(\"Cannot calculate monthly sales trends as 'TransactionDate' or 'TotalPrice' is missing.\")"
   ]
  },
  {
   "cell_type": "code",
   "execution_count": null,
   "metadata": {},
   "outputs": [],
   "source": [
    "# Här är hur jag har använt EDA på Customers för att undersöka tabellen Customers\n",
    "connection = sqlite3.connect(\"Köksglädje.db\")\n",
    "Customers_query = \"\"\"select CustomerID, JoinDate, ActiveMember, Approvedtocontact from Customers \"\"\"\n",
    "Customers_df = pd.read_sql(Customers_query, connection)\n",
    "print(Customers_df.head())\n"
   ]
  },
  {
   "cell_type": "code",
   "execution_count": null,
   "metadata": {},
   "outputs": [],
   "source": [
    "Customers_df.info"
   ]
  },
  {
   "cell_type": "code",
   "execution_count": null,
   "metadata": {},
   "outputs": [],
   "source": [
    "Customers_df.max"
   ]
  },
  {
   "cell_type": "code",
   "execution_count": null,
   "metadata": {},
   "outputs": [],
   "source": [
    "Customers_df.shape"
   ]
  },
  {
   "cell_type": "code",
   "execution_count": null,
   "metadata": {},
   "outputs": [],
   "source": [
    "# Här är hur man analyserar tabellen Customers\n",
    "\n",
    "# Här är hur man gör connect med sqlite3 med databasen köksglädje\n",
    "connection =  sqlite3.connect(\"Köksglädje.db\")\n",
    "\n",
    "# Här är hur man hittar information genom att göra select \n",
    "Customers_df_query = \"\"\"select CustomerID, JoinDate, ActiveMember, Approvedtocontact from Customers \"\"\"\n",
    "\n",
    "# Här läser vi in data\n",
    "try:\n",
    "    Customers_df= pd.read_sql(Customers_query, connection)\n",
    "    print( \"Data is working\")\n",
    "except Exception as e:\n",
    "    print(\"Customers tabell doesn't work:\",e)\n",
    "    raise\n",
    "finally:\n",
    "    connection.close()\n",
    "\n",
    " # Här är hur vi kollar columnerna \n",
    "if \"JoinDate\" in Customers_df.columns:\n",
    "    print (\"Customers is working\")\n",
    "    print(\"JoinDate info:\")\n",
    "    print(Customers_df['JoinDate'].info())\n",
    "    \n",
    "# Här är hur vi använder pd.to_datetime för att skapa se alla datum\n",
    "\n",
    "    Customers_df['JoinDate']=pd.to_datetime(Customers_df['JoinDate'],errors='coerce')\n",
    "   \n",
    "# Här är hur vi skapar Diagrammen \n",
    "    \n",
    "    fig, ax= plt.subplots(figsize=(10,5))\n",
    "    ax.set(title='Customers Data Display')\n",
    "    ax.set_xlabel('JoinDate')\n",
    "    ax.bar(x=Customers_df['JoinDate'],height=Customers_df['CustomerID'],color='green')\n",
    "\n",
    "    plt.xticks(rotation=45,ha='right')\n",
    "    plt.tight_layout()\n",
    "    plt.show()\n",
    "\n",
    "# TIllsist Här är hur vi printar ut \n",
    "else: \n",
    "    print(\"Data closed\")\n",
    "    print(Customers_df['JoinDate'].head())"
   ]
  },
  {
   "cell_type": "code",
   "execution_count": null,
   "metadata": {},
   "outputs": [],
   "source": [
    "# Här är hur man gör analysering på tabellen Transactions och TransactionsDetails\n",
    "\n",
    "# Här är hur man gör connect med sqlite3 med databasen köksglädje\n",
    "connection =  sqlite3.connect(\"Köksglädje.db\")\n",
    "\n",
    "# Här är hur man hittar information genom att göra select och join \n",
    "query = \"\"\" SELECT Transactions.TransactionDate, TransactionDetails.TotalPrice\n",
    "from Transactions\n",
    "Join  TransactionDetails on Transactions.TransactionID = TransactionDetails.TransactionID \"\"\"\n",
    "\n",
    "# Här läser vi in data\n",
    "try:\n",
    "    df = pd.read_sql(query, connection)\n",
    "    print(\"Transaction on go!\")\n",
    "except Exception as e:\n",
    "    print (\"Data doesn't work:\",e)\n",
    "finally:\n",
    "    connection.close()\n",
    "    \n",
    "# Här är hur vi kollar columnerna    \n",
    "if \"TransactionDate\" in df.columns and \"TotalPrice\" in df.columns:\n",
    "    df['TransactionDate'] = pd.to_datetime(df['TransactionDate'], errors='coerce')\n",
    "    df['TotalPrice'] = df['TotalPrice'].astype(float)\n",
    "# Här är hur vi printar ut \n",
    "    print(\"Transaction is working\")\n",
    "    print(\"TransactionDate info:\")\n",
    "    print(df['TransactionDate'].info())\n",
    "\n",
    "# Här är hur vi har skapat groupby genom summera och använt result index genom att normalisera och sen printa ut det \n",
    "    result = df.groupby(['TransactionDate']).sum()\n",
    "    result = result.reset_index()\n",
    "    print(result)\n",
    "# Här har hur man skapar  Diagrammen \n",
    "    fig, ax = plt.subplots(figsize=(10,5))\n",
    "    ax.set_title('Transactions & Graph')\n",
    "    ax.set_xlabel('TransactionDate')\n",
    "    ax.set_ylabel('Totalprice')\n",
    "\n",
    "    ax.plot(result['TransactionDate'], result['TotalPrice'], color='green')\n",
    "\n",
    "    plt.xticks(rotation=45,ha='right')\n",
    "    plt.tight_layout()\n",
    "    plt.show()\n",
    "    \n",
    "# Tillsist här är hur vi printar ut \n",
    "    print(df.head())\n",
    "    print(df.info())"
   ]
  },
  {
   "cell_type": "code",
   "execution_count": null,
   "metadata": {},
   "outputs": [],
   "source": [
    "df"
   ]
  },
  {
   "cell_type": "code",
   "execution_count": null,
   "metadata": {},
   "outputs": [],
   "source": [
    "df.TotalPrice.astype(float)"
   ]
  },
  {
   "cell_type": "code",
   "execution_count": null,
   "metadata": {},
   "outputs": [],
   "source": [
    "result"
   ]
  },
  {
   "cell_type": "code",
   "execution_count": null,
   "metadata": {},
   "outputs": [],
   "source": [
    "# Här är hur man gör analysering på tabellen Stores och TransactionDetails\n",
    "\n",
    "# Här är hur man gör connect med sqlite3 med databasen köksglädje\n",
    "connection =  sqlite3.connect(\"Köksglädje.db\")\n",
    "\n",
    "# Här är hur man hittar information genom att göra select och join\n",
    "query = \"\"\"select Stores.StoreName,TransactionDetails.Totalprice\n",
    "from Stores \n",
    "Join TransactionDetails on Stores.StoreID = TransactionDetails.TransactionID \"\"\"\n",
    "\n",
    "# Här läser vi in data\n",
    "try:\n",
    "    df = pd.read_sql(query, connection)\n",
    "    print(\" Stores on go!\")\n",
    "except Exception as e:\n",
    "    print (\"Data doesn't work:\",e)\n",
    "    raise\n",
    "finally:\n",
    "        connection.close()\n",
    "# Här är hur vi kollar columnerna och sen skapar astype som float\n",
    "if \"StoreName\" in df.columns and \"TotalPrice\" in df.columns:\n",
    "     df['TotalPrice'] = df['TotalPrice'].astype(float)\n",
    "\n",
    "# Här är hur vi printar   \n",
    "     print(\"Stores is working\")\n",
    "     print(\"StoreName info:\")\n",
    "     print(df[\"StoreName\"].info())\n",
    "else:\n",
    "    print('Data is not working')\n",
    "    print(df.head())\n",
    "    \n",
    "# Här är hur man har skapar Diagrammen \n",
    "fig, ax = plt.subplots(figsize=(10,5))\n",
    "df.plot(\n",
    "x='StoreName',\n",
    "y='TotalPrice',\n",
    "kind='bar',\n",
    "title='Stores',\n",
    "ax=ax,\n",
    "color='green' \n",
    ")\n",
    "\n",
    "plt.xticks(rotation=45, ha= 'right')\n",
    "plt.yticks()\n",
    "plt.tight_layout()\n",
    "plt.show()\n",
    "\n",
    "# Tillsist här är hur vi printar ut \n",
    "print(df.head())\n",
    "print(df.info())"
   ]
  },
  {
   "cell_type": "code",
   "execution_count": null,
   "metadata": {},
   "outputs": [],
   "source": [
    "df"
   ]
  },
  {
   "cell_type": "code",
   "execution_count": null,
   "metadata": {},
   "outputs": [],
   "source": [
    "# Här är hur man gör connect med sqlite3 med databasen köksglädje\n",
    "connection =  sqlite3.connect(\"Köksglädje.db\")\n",
    "\n",
    "# Här är hur man hittar information genom att göra select\n",
    "ActiveMember_query = \"\"\"select ActiveMember from Customers\"\"\"\n",
    "\n",
    "# Här läser vi in data\n",
    "df= pd.read_sql(ActiveMember_query, connection)\n",
    "\n",
    "# Här är hur man kollar alla null kolumner \n",
    "null_columns = df[df['ActiveMember'].isnull()]\n",
    "\n",
    "# Här är hur man printar \n",
    "print(null_columns)\n",
    "\n",
    "# Här är hur man stänger connection\n",
    "connection.close()"
   ]
  },
  {
   "cell_type": "code",
   "execution_count": null,
   "metadata": {},
   "outputs": [],
   "source": [
    "# Här är hur man gör connect med sqlite3 med databasen köksglädje\n",
    "connection =  sqlite3.connect(\"Köksglädje.db\")\n",
    "\n",
    "# Här är hur man hittar information genom att göra select\n",
    "transactionDetail_query = \"\"\"select TotalPrice from TransactionDetails\"\"\"\n",
    "\n",
    "# Här läser vi in data\n",
    "df= pd.read_sql(transactionDetail_query, connection)\n",
    "\n",
    "# Här är hur vi kollar Total max price i transactiondetails\n",
    "max_TotalPrice = df['TotalPrice'].max()\n",
    "\n",
    "# Här är hur man printar \n",
    "print(max_TotalPrice)\n",
    "\n",
    "# Här är hur man stänger connection\n",
    "connection.close()"
   ]
  },
  {
   "cell_type": "code",
   "execution_count": null,
   "metadata": {},
   "outputs": [],
   "source": [
    "# Detta är minsta Totalprice i transaction Details\n",
    "\n",
    "# Här är hur man gör connect med sqlite3 med databasen köksglädje\n",
    "connection =  sqlite3.connect(\"Köksglädje.db\")\n",
    "\n",
    "# Här är hur man hittar information genom att göra select\n",
    "transactionDetail_query = \"\"\"select TotalPrice from TransactionDetails\"\"\"\n",
    "\n",
    "# Här läser vi in data\n",
    "df= pd.read_sql(transactionDetail_query, connection)\n",
    "\n",
    "# Här är hur vi kollar Total min price i transactiondetails\n",
    "min_TotalPrice = df['TotalPrice'].min()\n",
    "\n",
    "# Här är hur man printar \n",
    "print(min_TotalPrice)\n",
    "\n",
    "# Här är hur man stänger connection\n",
    "connection.close()"
   ]
  },
  {
   "cell_type": "code",
   "execution_count": null,
   "metadata": {},
   "outputs": [],
   "source": [
    "# Här är hur jag har Transformera tabellen Stores\n",
    "\n",
    "# Här är hur man gör connect med sqlite3 med databasen köksglädje\n",
    "connection =  sqlite3.connect(\"Köksglädje.db\")\n",
    "\n",
    "# Här är hur man hittar information genom att göra select\n",
    "query =\" select StoreID, Storename, Location from Stores\"\n",
    "\n",
    "# Här läser vi in data\n",
    "try:\n",
    "    df= pd.read_sql(query, connection)\n",
    "    print( \"Data is working\")\n",
    "except:\n",
    "    print(\"Data is not working\")\n",
    "else:\n",
    "    print(\"Data is on go\")\n",
    "finally:\n",
    "    print(\"close connection\")\n",
    "    \n",
    "# Här är hur vi gör groupby för att kolla location genom att använda max\n",
    "    result = df.groupby('Location').max()\n",
    "\n",
    "# Här är hur man printar \n",
    "    print(result)"
   ]
  },
  {
   "cell_type": "code",
   "execution_count": null,
   "metadata": {},
   "outputs": [],
   "source": [
    "# Här är hur jag har Transformera tabellen Stores\n",
    "\n",
    "# Här är hur man gör connect med sqlite3 med databasen köksglädje\n",
    "connection =  sqlite3.connect(\"Köksglädje.db\")\n",
    "\n",
    "# Här är hur man hittar information genom att göra select\n",
    "query = \" select StoreID, StoreName, Location from Stores\"\n",
    "\n",
    "# Här läser vi in data\n",
    "try:\n",
    "    df= pd.read_sql(query, connection)\n",
    "    print( \"Data is working\")\n",
    "except:\n",
    "    print(\"Data is not working\")\n",
    "else:\n",
    "    print(\"Data is on go\")\n",
    "finally:\n",
    "    print(\"close connection\")\n",
    "    \n",
    "# Här är hur vi gör groupby för att kolla storenames columnen genom att använda max\n",
    "    result = df.groupby('StoreName').max()\n",
    "   \n",
    "# Här är hur man printar \n",
    "    print(result)"
   ]
  },
  {
   "cell_type": "code",
   "execution_count": null,
   "metadata": {},
   "outputs": [],
   "source": [
    "# Här är hur jag har Transformera tabellen Transactions\n",
    "\n",
    "# Här är hur man gör connect med sqlite3 med databasen köksglädje\n",
    "connection =  sqlite3.connect(\"Köksglädje.db\")\n",
    "\n",
    "# Här är hur man hittar information genom att göra select\n",
    "query = \" select TransactionID, StoreID, CustomerID, Transactiondate from Transactions\"\n",
    "\n",
    "# Här läser vi in data\n",
    "try:\n",
    "    df= pd.read_sql(query, connection)\n",
    "    print( \"Data is working\")\n",
    "except:\n",
    "    print(\"Data is not working\")\n",
    "else:\n",
    "    print(\"Data is on go\")\n",
    "finally:\n",
    "    print(\"close connection\")\n",
    "    \n",
    "# Här är hur vi gör groupby för att kolla storeid columnen genom att använda sum\n",
    "    result = df.groupby('StoreID').sum()\n",
    "       \n",
    "# Här är hur man printar \n",
    "    print(result)"
   ]
  },
  {
   "cell_type": "code",
   "execution_count": null,
   "metadata": {},
   "outputs": [],
   "source": [
    "# Här är hur jag har Transformera tabellen Products\n",
    "\n",
    "# Här är hur man gör connect med sqlite3 med databasen köksglädje\n",
    "connection =  sqlite3.connect(\"Köksglädje.db\")\n",
    "\n",
    "# Här är hur man hittar information genom att göra select\n",
    "query = \" select ProductID, ProductName, Description, CategoryName, Price, CostPrice from Products\"\n",
    "\n",
    "# Här läser vi in data\n",
    "try:\n",
    "    df= pd.read_sql(query, connection)\n",
    "    print( \"Data is working\")\n",
    "except:\n",
    "    print(\"Data is not working\")\n",
    "else:\n",
    "    print(\"Data is on go\")\n",
    "finally:\n",
    "    print(\"close connection\")\n",
    "\n",
    "# Här är hur vi gör groupby för att kolla price columnen genom att använda agg.sum,min,max\n",
    "    result = df.groupby('Price').agg(['min', 'sum', 'max'])\n",
    "\n",
    "# Här är hur man printar     \n",
    "    print(result)"
   ]
  },
  {
   "cell_type": "code",
   "execution_count": null,
   "metadata": {},
   "outputs": [],
   "source": []
  },
  {
   "cell_type": "code",
   "execution_count": null,
   "metadata": {},
   "outputs": [],
   "source": [
    "# Här är hur jag har Transformera tabellen products\n",
    "\n",
    "# Här är Hur man gör connect med sqlite3 med databasen köksglädje\n",
    "connection =  sqlite3.connect(\"Köksglädje.db\")\n",
    "# Här är hur man hittar information genom att göra select\n",
    "query = \" select ProductID, ProductName, Description, CategoryName, Price, CostPrice from Products\"\n",
    "# Här läser vi in data\n",
    "try:\n",
    "    df= pd.read_sql(query, connection)\n",
    "    print( \"Data is working\")\n",
    "except Exception as e:\n",
    "    print(e)\n",
    "else:\n",
    "    print(\"Data is on go\")\n",
    "finally:\n",
    "    print(\"close connection\")\n",
    "    \n",
    "# Här är hur vi gör groupby för att kolla productname columnen genom att använda prod\n",
    "    result = df.groupby('ProductName').prod()\n",
    "    \n",
    "# Här är hur man printar    \n",
    "    print(result)"
   ]
  },
  {
   "cell_type": "code",
   "execution_count": null,
   "metadata": {},
   "outputs": [],
   "source": [
    "# Här är hur jag har Transformera tabellen Customers\n",
    "\n",
    "# Här är hur man gör connect med sqlite3 med databasen köksglädje\n",
    "connection =  sqlite3.connect(\"Köksglädje.db\")\n",
    "\n",
    "# Här är hur man hittar information genom att göra select\n",
    "query = \"select customerID, Joindate, ActiveMember, Approvedtocontact from customers\"\n",
    "\n",
    "# Här läser vi in data\n",
    "try:\n",
    "    df= pd.read_sql(query, connection)\n",
    "    print( \"Data is working\")\n",
    "except Exception as e:\n",
    "    print(e)\n",
    "else:\n",
    "    print(\"Data is on go\")\n",
    "finally:\n",
    "    print(\"close connection\")\n",
    "    \n",
    "# Här är hur vi gör groupby för att kolla activemember columnen genom att använda max\n",
    "    result = df.groupby('ActiveMember').max()\n",
    "    \n",
    "# Här är hur man printar   \n",
    "    print(result)"
   ]
  },
  {
   "cell_type": "code",
   "execution_count": null,
   "metadata": {},
   "outputs": [],
   "source": [
    "# Här är hur jag har Transformera tabellen TransactionDetails\n",
    "\n",
    "# Här är hur man gör connect med sqlite3 med databasen köksglädje\n",
    "connection =  sqlite3.connect(\"Köksglädje.db\")\n",
    "\n",
    "# Här är hur man hittar information genom att göra select\n",
    "query = \"select TransactionDetailID, TransactionID, ProductID,  Quantity, PriceAtPurchase, TotalPrice from TransactionDetails\"\n",
    "\n",
    "# Här läser vi in data\n",
    "try:\n",
    "    df= pd.read_sql(query, connection)\n",
    "    print( \"Data is working\")\n",
    "except Exception as e:\n",
    "    print(e)\n",
    "else:\n",
    "    print(\"Data is on go\")\n",
    "finally:\n",
    "    print(\"close connection\")\n",
    "    \n",
    "# Här är hur vi gör groupby för att kolla Totalprice columnen genom att använda sum\n",
    "    result = df.groupby('TotalPrice').sum()\n",
    "    \n",
    "# Här är hur man printar   \n",
    "    print(result)"
   ]
  }
 ],
 "metadata": {
  "kernelspec": {
   "display_name": "base",
   "language": "python",
   "name": "python3"
  },
  "language_info": {
   "codemirror_mode": {
    "name": "ipython",
    "version": 3
   },
   "file_extension": ".py",
   "mimetype": "text/x-python",
   "name": "python",
   "nbconvert_exporter": "python",
   "pygments_lexer": "ipython3",
   "version": "3.12.7"
  }
 },
 "nbformat": 4,
 "nbformat_minor": 2
}
