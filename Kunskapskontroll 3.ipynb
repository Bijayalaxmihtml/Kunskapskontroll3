{
 "cells": [
  {
   "cell_type": "code",
   "execution_count": 1040,
   "metadata": {},
   "outputs": [],
   "source": [
    "import sqlite3\n",
    "import pandas as pd\n",
    "import matplotlib.pyplot as plt "
   ]
  },
  {
   "cell_type": "markdown",
   "metadata": {},
   "source": [
    "###1. Läsa in data från en SQL-databas (Load data from an SQL database)"
   ]
  },
  {
   "cell_type": "code",
   "execution_count": 1041,
   "metadata": {},
   "outputs": [],
   "source": [
    "connection = sqlite3.connect(\"Köksglädje.db\")\n",
    "# Create connection to database file\n"
   ]
  },
  {
   "cell_type": "code",
   "execution_count": null,
   "metadata": {},
   "outputs": [],
   "source": [
    "products_query = \"SELECT * FROM Products;\"\n",
    "products_df = pd.read_sql(products_query, connection)\n",
    "products_df"
   ]
  },
  {
   "cell_type": "code",
   "execution_count": null,
   "metadata": {},
   "outputs": [],
   "source": [
    "Stores_query = \"SELECT * FROM Stores;\"\n",
    "Stores_df = pd.read_sql(Stores_query, connection)\n",
    "Stores_df"
   ]
  },
  {
   "cell_type": "code",
   "execution_count": null,
   "metadata": {},
   "outputs": [],
   "source": [
    "Transactions_query = 'SELECT * FROM [Transactions];'  \n",
    "Transactions_df = pd.read_sql(Transactions_query, connection)\n",
    "Transactions_df"
   ]
  },
  {
   "cell_type": "code",
   "execution_count": null,
   "metadata": {},
   "outputs": [],
   "source": [
    "Customers_query = \"SELECT * FROM Customers;\"\n",
    "Customers_df = pd.read_sql(Customers_query, connection)\n",
    "Customers_df"
   ]
  },
  {
   "cell_type": "code",
   "execution_count": null,
   "metadata": {},
   "outputs": [],
   "source": [
    "\n",
    "connection = sqlite3.connect(\"Köksglädje.db\")\n",
    "transaction_details_query = \"SELECT * FROM TransactionDetails\"\n",
    "transaction_details_df = pd.read_sql(transaction_details_query, connection)\n",
    "transaction_details_df"
   ]
  },
  {
   "cell_type": "code",
   "execution_count": null,
   "metadata": {},
   "outputs": [],
   "source": [
    "tables_query = \"SELECT name FROM sqlite_master WHERE type='table';\"\n",
    "tables_df = pd.read_sql(tables_query, connection)\n",
    "print(tables_df)"
   ]
  },
  {
   "cell_type": "markdown",
   "metadata": {},
   "source": [
    "###2. Transformera datan i Pandas, om det behövs (Transform the data in Pandas, if needed)"
   ]
  },
  {
   "cell_type": "code",
   "execution_count": null,
   "metadata": {},
   "outputs": [],
   "source": [
    "df = pd.merge(products_df, transaction_details_df, on=\"ProductID\")\n",
    "df"
   ]
  },
  {
   "cell_type": "code",
   "execution_count": null,
   "metadata": {},
   "outputs": [],
   "source": [
    "\n",
    "# Merging transactions with store data\n",
    "df1 = pd.merge(Transactions_df, Stores_df, on=\"StoreID\")\n",
    "df1"
   ]
  },
  {
   "cell_type": "code",
   "execution_count": null,
   "metadata": {},
   "outputs": [],
   "source": [
    "# Merging transactions with Customer data\n",
    "df2 = pd.merge(Transactions_df, Customers_df, on=\"CustomerID\")\n",
    "print(df2.head())\n",
    "\n",
    "\n"
   ]
  },
  {
   "cell_type": "code",
   "execution_count": null,
   "metadata": {},
   "outputs": [],
   "source": [
    "query = '''SELECT ProductName, Price FROM Products\n",
    "WHERE CategoryName = \"Köksknivar\";'''\n",
    "df.head(20).plot(kind=\"barh\", x=\"ProductName\", rot=0)\n",
    "\n",
    "df"
   ]
  },
  {
   "cell_type": "code",
   "execution_count": null,
   "metadata": {},
   "outputs": [],
   "source": [
    "float_columns = df.select_dtypes(include='float')\n",
    "print(float_columns) "
   ]
  },
  {
   "cell_type": "code",
   "execution_count": null,
   "metadata": {},
   "outputs": [],
   "source": [
    "# Grouping and analyzing quantity by product\n",
    "df.groupby(\"ProductName\").Quantity.mean()"
   ]
  },
  {
   "cell_type": "code",
   "execution_count": null,
   "metadata": {},
   "outputs": [],
   "source": [
    "query = '''SELECT Productname, Price FROM Products\n",
    "WHERE ProductName = \"Kockkniv\";'''\n",
    "print(df)"
   ]
  },
  {
   "cell_type": "code",
   "execution_count": null,
   "metadata": {},
   "outputs": [],
   "source": [
    "df . describe()"
   ]
  },
  {
   "cell_type": "code",
   "execution_count": null,
   "metadata": {},
   "outputs": [],
   "source": [
    "query = '''SELECT ProductName, Price FROM Products\n",
    "WHERE CategoryName = \"Köksknivar\";'''\n",
    "\n",
    "df.boxplot(figsize = (15,10))\n",
    "#plt.show()\n",
    "df"
   ]
  },
  {
   "cell_type": "code",
   "execution_count": null,
   "metadata": {},
   "outputs": [],
   "source": [
    "# Checking missing values and data types\n",
    "df . isnull().sum()\n",
    "df.dtypes"
   ]
  },
  {
   "cell_type": "code",
   "execution_count": null,
   "metadata": {},
   "outputs": [],
   "source": [
    "# Checking unique values in the dataset\n",
    "df .nunique()"
   ]
  },
  {
   "cell_type": "code",
   "execution_count": 1060,
   "metadata": {},
   "outputs": [],
   "source": [
    "query = '''SELECT ProductName, Price FROM Products \n",
    "WHERE CategoryName = \"Köksknivar\";'''"
   ]
  },
  {
   "cell_type": "code",
   "execution_count": 1061,
   "metadata": {},
   "outputs": [],
   "source": [
    "df_box = pd.read_sql(query, connection)"
   ]
  },
  {
   "cell_type": "code",
   "execution_count": null,
   "metadata": {},
   "outputs": [],
   "source": [
    "df_box"
   ]
  },
  {
   "cell_type": "code",
   "execution_count": null,
   "metadata": {},
   "outputs": [],
   "source": [
    "df_box.boxplot(figsize=(15,10))\n",
    "plt.show()"
   ]
  },
  {
   "cell_type": "code",
   "execution_count": null,
   "metadata": {},
   "outputs": [],
   "source": [
    "fig = plt.Figure()\n",
    "ax = df.boxplot()\n",
    "plt.show()"
   ]
  },
  {
   "cell_type": "code",
   "execution_count": null,
   "metadata": {},
   "outputs": [],
   "source": [
    "float_columns = df.select_dtypes(include='float')\n",
    "print(float_columns)"
   ]
  },
  {
   "cell_type": "code",
   "execution_count": null,
   "metadata": {},
   "outputs": [],
   "source": [
    "object_columns = df.select_dtypes(include='object')\n",
    "print(object_columns)"
   ]
  },
  {
   "cell_type": "code",
   "execution_count": null,
   "metadata": {},
   "outputs": [],
   "source": [
    "integer_columns = df.select_dtypes(include='integer')\n",
    "print(integer_columns)"
   ]
  },
  {
   "cell_type": "code",
   "execution_count": null,
   "metadata": {},
   "outputs": [],
   "source": [
    "# Query the database\n",
    "query = \"\"\"\n",
    "    SELECT \n",
    "        t.TransactionDate, s.StoreName, s.Location, \n",
    "        p.ProductName, p.CategoryName, td.Quantity, \n",
    "        td.TotalPrice, p.Price, p.CostPrice,\n",
    "        (td.TotalPrice - (p.CostPrice * td.Quantity)) AS Profit\n",
    "    FROM TransactionDetails td\n",
    "    JOIN Products p ON td.ProductID = p.ProductID\n",
    "    JOIN Transactions t ON td.TransactionID = t.TransactionID\n",
    "    JOIN Stores s ON t.StoreID = s.StoreID\n",
    "\"\"\"\n",
    "sales_data = pd.read_sql_query(query, connection)\n",
    "# Convert TransactionDate to datetime\n",
    "sales_data[\"TransactionDate\"] = pd.to_datetime(sales_data[\"TransactionDate\"])\n",
    "# Total sales by store\n",
    "sales_by_store = sales_data.groupby(\"StoreName\")[\"TotalPrice\"].sum().sort_values(ascending=False)\n",
    "print(\"Total Sales by Store:\")\n",
    "print(sales_by_store)"
   ]
  },
  {
   "cell_type": "markdown",
   "metadata": {},
   "source": [
    "3. Genomföra en analys av datan i Pandas (Conduct data analysis in Pandas)"
   ]
  },
  {
   "cell_type": "code",
   "execution_count": null,
   "metadata": {},
   "outputs": [],
   "source": [
    "# Total sales by product\n",
    "sales_by_product = sales_data.groupby(\"ProductName\")[\"TotalPrice\"].sum().sort_values(ascending=False).head(10)\n",
    "print(\"Top 10 Products by Sales:\")\n",
    "print(sales_by_product)\n",
    "\n",
    "# Visualization: total sales by product\n",
    "sales_by_product.plot(kind=\"bar\", title=\"sales by product\", figsize=(5, 7), color=\"blue\")\n",
    "plt.ylabel(\"Total Profit ($)\")\n",
    "plt.show()\n",
    "\n",
    "# Total profit by category\n",
    "profit_by_category = sales_data.groupby(\"CategoryName\")[\"Profit\"].sum().sort_values(ascending=False)\n",
    "print(\"\\nTotal Profit by Category:\")\n",
    "print(profit_by_category)\n",
    "\n",
    "# Visualization: Profit by category\n",
    "profit_by_category.plot(kind=\"bar\", title=\"Profit by Category\", figsize=(8, 6), color=\"green\")\n",
    "plt.ylabel(\"Total Profit ($)\")\n",
    "plt.show()"
   ]
  },
  {
   "cell_type": "code",
   "execution_count": null,
   "metadata": {},
   "outputs": [],
   "source": [
    "# Total sales by store\n",
    "sales_by_store = sales_data.groupby(\"StoreName\")[\"TotalPrice\"].sum().sort_values(ascending=False)\n",
    "print(\"Total Sales by Store:\")\n",
    "print(sales_by_store)\n",
    "\n",
    "# Visualization (optional)\n",
    "sales_by_store.plot(kind=\"bar\", title=\"Total Sales by Store\", figsize=(8, 6), color=\"brown\")\n",
    "plt.ylabel(\"Total Sales ($)\")\n",
    "plt.show()"
   ]
  },
  {
   "cell_type": "code",
   "execution_count": null,
   "metadata": {},
   "outputs": [],
   "source": [
    "# Total profit by store\n",
    "profit_by_store = sales_data.groupby(\"StoreName\")[\"Profit\"].sum().sort_values(ascending=False)\n",
    "print(\"\\nTotal Profit by Store:\")\n",
    "print(profit_by_store)\n",
    "\n",
    "# Visualization (optional)\n",
    "profit_by_store.plot(kind=\"bar\", title=\"Total Profit by Store\", figsize=(10, 8), color=\"darkblue\")\n",
    "plt.ylabel(\"Total Profit ($)\")\n",
    "plt.show()"
   ]
  },
  {
   "cell_type": "code",
   "execution_count": null,
   "metadata": {},
   "outputs": [],
   "source": [
    "###1. Analyzing specific aspects of the data (Analysera skillnader i försäljning utifrån butik, produkt, och över tid)\n",
    "##Perform monthly/weekly trend analysis using TransactionDate.\n",
    "##Find peak sales periods.\n",
    "sales_data[\"TransactionDate\"] = pd.to_datetime(sales_data[\"TransactionDate\"])\n",
    "monthly_sales = sales_data.groupby(sales_data[\"TransactionDate\"].dt.to_period(\"M\"))[\"TotalPrice\"].sum()\n",
    "print(monthly_sales)\n",
    "monthly_sales.plot(kind=\"line\", title=\"Monthly Sales Trends\")\n",
    "plt.show()"
   ]
  },
  {
   "cell_type": "code",
   "execution_count": null,
   "metadata": {},
   "outputs": [],
   "source": [
    "\n",
    "\n",
    "\n",
    "##Are there any seasonal patterns in sales?\n",
    "# Seasonal trends analysis\n",
    "sales_data[\"month\"] = sales_data[\"TransactionDate\"].dt.month\n",
    "monthly_sales = sales_data.groupby(\"month\")[\"TotalPrice\"].sum()\n",
    "monthly_sales.plot(kind=\"bar\", title=\"Monthly Sales Trends\")\n",
    "plt.show()"
   ]
  },
  {
   "cell_type": "code",
   "execution_count": null,
   "metadata": {},
   "outputs": [],
   "source": [
    "# Query with the correct table name\n",
    "transaction_query = \"\"\"\n",
    "SELECT transaction_date, transactionID, storeID, customerID\n",
    "FROM \"Transactions\"  -- Replace with the correct name\n",
    "\"\"\"\n",
    "\n",
    "try:\n",
    "    # Execute the query and load the data into a pandas DataFrame\n",
    "    transaction = pd.read_sql(transaction_query, connection)\n",
    "    print(\"Transaction data retrieved successfully!\")\n",
    "    print(transaction.head())\n",
    "except Exception as e:\n",
    "    print(f\"An error occurred: {e}\")"
   ]
  },
  {
   "cell_type": "code",
   "execution_count": null,
   "metadata": {},
   "outputs": [],
   "source": [
    "print(df.columns)"
   ]
  },
  {
   "cell_type": "code",
   "execution_count": null,
   "metadata": {},
   "outputs": [],
   "source": [
    "#  Connect to the database\n",
    "connection = sqlite3.connect(\"Köksglädje.db\")\n",
    "\n",
    "#  Load data from the database with proper checks\n",
    "try:\n",
    "    transactions_df = pd.read_sql(\"SELECT * FROM Transactions;\", connection)\n",
    "    stores_df = pd.read_sql(\"SELECT * FROM Stores;\", connection)\n",
    "    transaction_details_df = pd.read_sql(\"SELECT * FROM TransactionDetails;\", connection)\n",
    "    products_df = pd.read_sql(\"SELECT * FROM Products;\", connection)\n",
    "\n",
    "    # Verify data loaded correctly\n",
    "    print(\"Data Loaded Successfully:\")\n",
    "    print(f\"Transactions: {transactions_df.shape}, Stores: {stores_df.shape}, \"\n",
    "          f\"TransactionDetails: {transaction_details_df.shape}, Products: {products_df.shape}\")\n",
    "\n",
    "except Exception as e:\n",
    "    print(f\"Error loading data: {e}\")\n",
    "    exit()\n",
    "\n",
    "#  Merge relevant tables\n",
    "df1 = pd.merge(transactions_df, stores_df, on=\"StoreID\", how=\"inner\")\n",
    "df1 = pd.merge(df1, transaction_details_df, on=\"TransactionID\", how=\"inner\")\n",
    "df1 = pd.merge(df1, products_df, on=\"ProductID\", how=\"inner\")\n",
    "\n",
    "#  Ensure column consistency\n",
    "df1.columns = df1.columns.str.strip().str.lower()\n",
    "\n",
    "#  Ensure 'totalprice' column exists\n",
    "if 'totalprice' not in df1.columns:\n",
    "    df1[\"totalprice\"] = df1[\"price\"] * df1[\"quantity\"]\n",
    "\n",
    "#  Analyze sales by store\n",
    "sales_by_store = df1.groupby(\"storename\")[\"totalprice\"].sum().sort_values(ascending=False)\n",
    "# Step 7: Display data and visualization\n",
    "print(\"Top 5 Stores by Total Sales:\")\n",
    "print(sales_by_store.head())\n",
    "\n",
    "# Visualization of total sales by store\n",
    "plt.figure(figsize=(10, 6))\n",
    "sales_by_store.plot(kind=\"bar\", color=\"brown\")\n",
    "plt.title(\"Total Sales by Store\")\n",
    "plt.ylabel(\"Total Sales ($)\")\n",
    "plt.xlabel(\"Store Name\")\n",
    "plt.xticks(rotation=45)\n",
    "plt.show()\n",
    "\n",
    "# Step 8: Data Summary and Missing Values\n",
    "print(\"\\nData Overview:\")\n",
    "print(df1.describe())\n",
    "\n",
    "print(\"\\nMissing Values Count:\")\n",
    "print(df1.isnull().sum())"
   ]
  },
  {
   "cell_type": "code",
   "execution_count": null,
   "metadata": {},
   "outputs": [],
   "source": [
    "##1. Data Cleaning Techniques\n",
    "## What data cleaning techniques are applied to the dataset?\n",
    "# Data cleaning is essential to ensure accuracy, consistency, and completeness of the dataset. \n",
    "##The following techniques were applied:\n",
    "#Handling Missing Values:\n",
    "\n",
    "#  Print available columns\n",
    "print(\"Initial Columns:\", df.columns.tolist())\n",
    "\n",
    "#  Clean column names\n",
    "df.columns = df.columns.str.strip()\n",
    "print(\"Cleaned Columns:\", df.columns.tolist())\n",
    "\n",
    "#  Check for missing values\n",
    "print(\"Missing Values Count:\\n\", df.isnull().sum())\n",
    "df.ffill(inplace=True)  # Forward fill missing values\n",
    "\n",
    "#  Convert data types\n",
    "if \"TransactionDate\" in df.columns:\n",
    "    df[\"TransactionDate\"] = pd.to_datetime(df[\"TransactionDate\"])\n",
    "else:\n",
    "    print(\"Warning: 'TransactionDate' column not found!\")\n",
    "\n",
    "#  Remove duplicates\n",
    "df.drop_duplicates(inplace=True)\n",
    "\n",
    "#  Standardize categorical values if StoreName exists\n",
    "if \"StoreName\" in df.columns:\n",
    "    df[\"StoreName\"] = df[\"StoreName\"].str.strip().str.title()\n",
    "else:\n",
    "    print(\"Column 'StoreName' not found. Skipping standardization.\")\n",
    "\n",
    "#  Detect outliers\n",
    "import seaborn as sns\n",
    "import matplotlib.pyplot as plt\n",
    "\n",
    "if \"TotalPrice\" in df.columns:\n",
    "    sns.boxplot(x=df[\"TotalPrice\"])\n",
    "    plt.title(\"Outlier Detection in TotalPrice\")\n",
    "    plt.show()\n",
    "else:\n",
    "    print(\"Column 'TotalPrice' not found. Cannot plot outliers.\")"
   ]
  },
  {
   "cell_type": "code",
   "execution_count": null,
   "metadata": {},
   "outputs": [],
   "source": [
    "# Remove spaces from column names\n",
    "df2.columns = df2.columns.str.strip()\n",
    "\n",
    "# Print columns to verify\n",
    "print(df2.columns)\n",
    "\n",
    "# Correct grouping with verified column names\n",
    "repeat_customers = df2.groupby(\"CustomerID\")[\"TransactionID\"].count().reset_index()\n",
    "repeat_customers.columns = [\"CustomerID\", \"PurchaseCount\"]\n",
    "\n",
    "# Categorizing customers\n",
    "repeat_customers[\"Segment\"] = repeat_customers[\"PurchaseCount\"].apply(lambda x: \"Repeat\" if x > 1 else \"New\")\n",
    "\n",
    "# Display first few rows\n",
    "print(repeat_customers.head())\n",
    "\n",
    "# Visualization using seaborn\n",
    "import matplotlib.pyplot as plt\n",
    "\n",
    "# Count the number of new and repeat customers\n",
    "new_customers = repeat_customers[repeat_customers[\"Segment\"] == \"New\"]\n",
    "repeat_customers_only = repeat_customers[repeat_customers[\"Segment\"] == \"Repeat\"]\n",
    "\n",
    "# Create a figure with two subplots (for New and Repeat)\n",
    "fig, axes = plt.subplots(1, 2, figsize=(14, 6))\n",
    "\n",
    "# Bar chart for New customers\n",
    "axes[0].bar(new_customers[\"CustomerID\"], new_customers[\"PurchaseCount\"], color='skyblue')\n",
    "axes[0].set_title(\"New Customers\")\n",
    "axes[0].set_xlabel(\"Customer ID\")\n",
    "axes[0].set_ylabel(\"Number of Purchases\")\n",
    "axes[0].tick_params(axis='x', rotation=90)  # Rotate x-axis labels for better readability\n",
    "\n",
    "# Bar chart for Repeat customers\n",
    "axes[1].bar(repeat_customers_only[\"CustomerID\"], repeat_customers_only[\"PurchaseCount\"], color='lightcoral')\n",
    "axes[1].set_title(\"Repeat Customers\")\n",
    "axes[1].set_xlabel(\"Customer ID\")\n",
    "axes[1].set_ylabel(\"Number of Purchases\")\n",
    "axes[1].tick_params(axis='x', rotation=90)  # Rotate x-axis labels for better readability\n",
    "\n",
    "# Display the plots\n",
    "plt.tight_layout()\n",
    "plt.show()\n"
   ]
  },
  {
   "cell_type": "code",
   "execution_count": null,
   "metadata": {},
   "outputs": [],
   "source": [
    "\n",
    "##2.Interactive Data Exploration:\n",
    "df.describe()\n",
    "df.hist(figsize=(10, 6))"
   ]
  },
  {
   "cell_type": "code",
   "execution_count": null,
   "metadata": {},
   "outputs": [],
   "source": [
    "\n",
    "# Step 1: Print available columns\n",
    "print(\"Initial Columns:\", df.columns.tolist())\n",
    "\n",
    "# Step 2: Clean column names by stripping extra spaces\n",
    "df.columns = df.columns.str.strip()\n",
    "print(\"Cleaned Columns:\", df.columns.tolist())\n",
    "\n",
    "# Step 3: Check for missing values and fill them using forward fill\n",
    "print(\"Missing Values Count:\\n\", df.isnull().sum())\n",
    "df.ffill(inplace=True)  # Forward fill missing values\n",
    "\n",
    "# Step 4: Convert 'TransactionDate' column to datetime format if it exists\n",
    "if \"TransactionDate\" in df.columns:\n",
    "    df[\"TransactionDate\"] = pd.to_datetime(df[\"TransactionDate\"])\n",
    "else:\n",
    "    print(\"Warning: 'TransactionDate' column not found!\")\n",
    "\n",
    "# Step 5: Remove duplicate rows\n",
    "df.drop_duplicates(inplace=True)\n",
    "\n",
    "# Step 6: Standardize 'StoreName' values if the column exists\n",
    "if \"StoreName\" in df.columns:\n",
    "    df[\"StoreName\"] = df[\"StoreName\"].str.strip().str.title()\n",
    "else:\n",
    "    print(\"Column 'StoreName' not found. Skipping standardization.\")\n",
    "\n",
    "# Step 7: Detect outliers in 'TotalPrice' using matplotlib boxplot\n",
    "if \"TotalPrice\" in df.columns:\n",
    "    plt.figure(figsize=(8, 6))  # Set figure size\n",
    "    plt.boxplot(df[\"TotalPrice\"])\n",
    "    plt.title(\"Outlier Detection in TotalPrice\")\n",
    "    plt.xlabel(\"TotalPrice\")\n",
    "    plt.grid(True)  # Add grid for better visibility\n",
    "    plt.show(block=True)  # Ensure the plot is displayed properly\n",
    "else:\n",
    "    print(\"Column 'TotalPrice' not found. Cannot plot outliers.\")\n",
    "\n",
    "# Step 8: Analyze top-selling product categories\n",
    "if \"CategoryName\" in df.columns and \"TotalPrice\" in df.columns:\n",
    "    top_categories = df.groupby(\"CategoryName\")[\"TotalPrice\"].sum().sort_values(ascending=False)\n",
    "    print(\"\\nTop-selling product categories:\")\n",
    "    print(top_categories.head())  # Show top categories\n",
    "else:\n",
    "    print(\"Columns 'CategoryName' or 'TotalPrice' missing. Cannot analyze top categories.\")\n",
    "\n",
    "# Step 9: Analyze monthly sales trends\n",
    "if \"TransactionDate\" in df.columns and \"TotalPrice\" in df.columns:\n",
    "    monthly_sales = df.groupby(df[\"TransactionDate\"].dt.month)[\"TotalPrice\"].sum()\n",
    "    plt.figure(figsize=(8, 6))\n",
    "    plt.plot(monthly_sales.index, monthly_sales.values, marker='o', linestyle='-', color='b')\n",
    "    plt.title(\"Monthly Sales Trends\")\n",
    "    plt.xlabel(\"Month\")\n",
    "    plt.ylabel(\"Total Sales\")\n",
    "    plt.grid(True)\n",
    "    plt.show()\n",
    "    print(\"\\nInsight: Sales tend to increase during holiday seasons, particularly in December.\")\n",
    "else:\n",
    "    print(\"Cannot calculate monthly sales trends as 'TransactionDate' or 'TotalPrice' is missing.\")"
   ]
  }
 ],
 "metadata": {
  "kernelspec": {
   "display_name": "base",
   "language": "python",
   "name": "python3"
  },
  "language_info": {
   "codemirror_mode": {
    "name": "ipython",
    "version": 3
   },
   "file_extension": ".py",
   "mimetype": "text/x-python",
   "name": "python",
   "nbconvert_exporter": "python",
   "pygments_lexer": "ipython3",
   "version": "3.12.7"
  }
 },
 "nbformat": 4,
 "nbformat_minor": 2
}
